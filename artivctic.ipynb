{
  "nbformat": 4,
  "nbformat_minor": 0,
  "metadata": {
    "colab": {
      "name": "artivctic.ipynb",
      "provenance": [],
      "collapsed_sections": []
    },
    "kernelspec": {
      "name": "python3",
      "display_name": "Python 3"
    },
    "accelerator": "GPU"
  },
  "cells": [
    {
      "cell_type": "code",
      "metadata": {
        "id": "rS2zfiVDILX2",
        "colab_type": "code",
        "colab": {
          "base_uri": "https://localhost:8080/",
          "height": 102
        },
        "outputId": "38c08c13-f289-4532-91af-664ea34784c3"
      },
      "source": [
        "!unzip '/content/drive/My Drive/ML_Artivatic_dataset.zip'"
      ],
      "execution_count": 9,
      "outputs": [
        {
          "output_type": "stream",
          "text": [
            "Archive:  /content/drive/My Drive/ML_Artivatic_dataset.zip\n",
            "   creating: ML_Artivatic_dataset/\n",
            "  inflating: ML_Artivatic_dataset/sample_submission.csv  \n",
            "  inflating: ML_Artivatic_dataset/test_indessa.csv  \n",
            "  inflating: ML_Artivatic_dataset/train_indessa.csv  \n"
          ],
          "name": "stdout"
        }
      ]
    },
    {
      "cell_type": "code",
      "metadata": {
        "id": "eS7U0uDRJ8mx",
        "colab_type": "code",
        "colab": {}
      },
      "source": [
        "import pandas as pd\n",
        "import numpy as np\n",
        "import matplotlib.pyplot as plt\n",
        "import seaborn as sns"
      ],
      "execution_count": 10,
      "outputs": []
    },
    {
      "cell_type": "code",
      "metadata": {
        "id": "CD83ChpIKVrh",
        "colab_type": "code",
        "colab": {}
      },
      "source": [
        "train=pd.read_csv('/content/ML_Artivatic_dataset/train_indessa.csv')"
      ],
      "execution_count": 11,
      "outputs": []
    },
    {
      "cell_type": "code",
      "metadata": {
        "id": "BJiyo5uazmz-",
        "colab_type": "code",
        "colab": {}
      },
      "source": [
        "test=pd.read_csv('/content/ML_Artivatic_dataset/test_indessa.csv')"
      ],
      "execution_count": 12,
      "outputs": []
    },
    {
      "cell_type": "code",
      "metadata": {
        "id": "bJG-6wJmLNzL",
        "colab_type": "code",
        "colab": {
          "base_uri": "https://localhost:8080/",
          "height": 462
        },
        "outputId": "ea170284-cc0a-49d0-9d01-9b27056e8ad4"
      },
      "source": [
        "train.head()"
      ],
      "execution_count": 13,
      "outputs": [
        {
          "output_type": "execute_result",
          "data": {
            "text/html": [
              "<div>\n",
              "<style scoped>\n",
              "    .dataframe tbody tr th:only-of-type {\n",
              "        vertical-align: middle;\n",
              "    }\n",
              "\n",
              "    .dataframe tbody tr th {\n",
              "        vertical-align: top;\n",
              "    }\n",
              "\n",
              "    .dataframe thead th {\n",
              "        text-align: right;\n",
              "    }\n",
              "</style>\n",
              "<table border=\"1\" class=\"dataframe\">\n",
              "  <thead>\n",
              "    <tr style=\"text-align: right;\">\n",
              "      <th></th>\n",
              "      <th>member_id</th>\n",
              "      <th>loan_amnt</th>\n",
              "      <th>funded_amnt</th>\n",
              "      <th>funded_amnt_inv</th>\n",
              "      <th>term</th>\n",
              "      <th>batch_enrolled</th>\n",
              "      <th>int_rate</th>\n",
              "      <th>grade</th>\n",
              "      <th>sub_grade</th>\n",
              "      <th>emp_title</th>\n",
              "      <th>emp_length</th>\n",
              "      <th>home_ownership</th>\n",
              "      <th>annual_inc</th>\n",
              "      <th>verification_status</th>\n",
              "      <th>pymnt_plan</th>\n",
              "      <th>desc</th>\n",
              "      <th>purpose</th>\n",
              "      <th>title</th>\n",
              "      <th>zip_code</th>\n",
              "      <th>addr_state</th>\n",
              "      <th>dti</th>\n",
              "      <th>delinq_2yrs</th>\n",
              "      <th>inq_last_6mths</th>\n",
              "      <th>mths_since_last_delinq</th>\n",
              "      <th>mths_since_last_record</th>\n",
              "      <th>open_acc</th>\n",
              "      <th>pub_rec</th>\n",
              "      <th>revol_bal</th>\n",
              "      <th>revol_util</th>\n",
              "      <th>total_acc</th>\n",
              "      <th>initial_list_status</th>\n",
              "      <th>total_rec_int</th>\n",
              "      <th>total_rec_late_fee</th>\n",
              "      <th>recoveries</th>\n",
              "      <th>collection_recovery_fee</th>\n",
              "      <th>collections_12_mths_ex_med</th>\n",
              "      <th>mths_since_last_major_derog</th>\n",
              "      <th>application_type</th>\n",
              "      <th>verification_status_joint</th>\n",
              "      <th>last_week_pay</th>\n",
              "      <th>acc_now_delinq</th>\n",
              "      <th>tot_coll_amt</th>\n",
              "      <th>tot_cur_bal</th>\n",
              "      <th>total_rev_hi_lim</th>\n",
              "      <th>loan_status</th>\n",
              "    </tr>\n",
              "  </thead>\n",
              "  <tbody>\n",
              "    <tr>\n",
              "      <th>0</th>\n",
              "      <td>58189336</td>\n",
              "      <td>14350</td>\n",
              "      <td>14350</td>\n",
              "      <td>14350.0</td>\n",
              "      <td>36 months</td>\n",
              "      <td></td>\n",
              "      <td>19.19</td>\n",
              "      <td>E</td>\n",
              "      <td>E3</td>\n",
              "      <td>clerk</td>\n",
              "      <td>9 years</td>\n",
              "      <td>OWN</td>\n",
              "      <td>28700.0</td>\n",
              "      <td>Source Verified</td>\n",
              "      <td>n</td>\n",
              "      <td>NaN</td>\n",
              "      <td>debt_consolidation</td>\n",
              "      <td>Debt consolidation</td>\n",
              "      <td>349xx</td>\n",
              "      <td>FL</td>\n",
              "      <td>33.88</td>\n",
              "      <td>0.0</td>\n",
              "      <td>1.0</td>\n",
              "      <td>50.0</td>\n",
              "      <td>75.0</td>\n",
              "      <td>14.0</td>\n",
              "      <td>1.0</td>\n",
              "      <td>22515.0</td>\n",
              "      <td>73.1</td>\n",
              "      <td>28.0</td>\n",
              "      <td>f</td>\n",
              "      <td>1173.84</td>\n",
              "      <td>0.0</td>\n",
              "      <td>0.0</td>\n",
              "      <td>0.0</td>\n",
              "      <td>0.0</td>\n",
              "      <td>74.0</td>\n",
              "      <td>INDIVIDUAL</td>\n",
              "      <td>NaN</td>\n",
              "      <td>26th week</td>\n",
              "      <td>0.0</td>\n",
              "      <td>0.0</td>\n",
              "      <td>28699.0</td>\n",
              "      <td>30800.0</td>\n",
              "      <td>0</td>\n",
              "    </tr>\n",
              "    <tr>\n",
              "      <th>1</th>\n",
              "      <td>70011223</td>\n",
              "      <td>4800</td>\n",
              "      <td>4800</td>\n",
              "      <td>4800.0</td>\n",
              "      <td>36 months</td>\n",
              "      <td>BAT1586599</td>\n",
              "      <td>10.99</td>\n",
              "      <td>B</td>\n",
              "      <td>B4</td>\n",
              "      <td>Human Resources Specialist</td>\n",
              "      <td>&lt; 1 year</td>\n",
              "      <td>MORTGAGE</td>\n",
              "      <td>65000.0</td>\n",
              "      <td>Source Verified</td>\n",
              "      <td>n</td>\n",
              "      <td>NaN</td>\n",
              "      <td>home_improvement</td>\n",
              "      <td>Home improvement</td>\n",
              "      <td>209xx</td>\n",
              "      <td>MD</td>\n",
              "      <td>3.64</td>\n",
              "      <td>0.0</td>\n",
              "      <td>1.0</td>\n",
              "      <td>NaN</td>\n",
              "      <td>NaN</td>\n",
              "      <td>6.0</td>\n",
              "      <td>0.0</td>\n",
              "      <td>7624.0</td>\n",
              "      <td>23.2</td>\n",
              "      <td>13.0</td>\n",
              "      <td>w</td>\n",
              "      <td>83.95</td>\n",
              "      <td>0.0</td>\n",
              "      <td>0.0</td>\n",
              "      <td>0.0</td>\n",
              "      <td>0.0</td>\n",
              "      <td>NaN</td>\n",
              "      <td>INDIVIDUAL</td>\n",
              "      <td>NaN</td>\n",
              "      <td>9th week</td>\n",
              "      <td>0.0</td>\n",
              "      <td>0.0</td>\n",
              "      <td>9974.0</td>\n",
              "      <td>32900.0</td>\n",
              "      <td>0</td>\n",
              "    </tr>\n",
              "    <tr>\n",
              "      <th>2</th>\n",
              "      <td>70255675</td>\n",
              "      <td>10000</td>\n",
              "      <td>10000</td>\n",
              "      <td>10000.0</td>\n",
              "      <td>36 months</td>\n",
              "      <td>BAT1586599</td>\n",
              "      <td>7.26</td>\n",
              "      <td>A</td>\n",
              "      <td>A4</td>\n",
              "      <td>Driver</td>\n",
              "      <td>2 years</td>\n",
              "      <td>OWN</td>\n",
              "      <td>45000.0</td>\n",
              "      <td>Not Verified</td>\n",
              "      <td>n</td>\n",
              "      <td>NaN</td>\n",
              "      <td>debt_consolidation</td>\n",
              "      <td>Debt consolidation</td>\n",
              "      <td>447xx</td>\n",
              "      <td>OH</td>\n",
              "      <td>18.42</td>\n",
              "      <td>0.0</td>\n",
              "      <td>0.0</td>\n",
              "      <td>NaN</td>\n",
              "      <td>NaN</td>\n",
              "      <td>5.0</td>\n",
              "      <td>0.0</td>\n",
              "      <td>10877.0</td>\n",
              "      <td>31.2</td>\n",
              "      <td>19.0</td>\n",
              "      <td>w</td>\n",
              "      <td>56.47</td>\n",
              "      <td>0.0</td>\n",
              "      <td>0.0</td>\n",
              "      <td>0.0</td>\n",
              "      <td>0.0</td>\n",
              "      <td>NaN</td>\n",
              "      <td>INDIVIDUAL</td>\n",
              "      <td>NaN</td>\n",
              "      <td>9th week</td>\n",
              "      <td>0.0</td>\n",
              "      <td>65.0</td>\n",
              "      <td>38295.0</td>\n",
              "      <td>34900.0</td>\n",
              "      <td>0</td>\n",
              "    </tr>\n",
              "    <tr>\n",
              "      <th>3</th>\n",
              "      <td>1893936</td>\n",
              "      <td>15000</td>\n",
              "      <td>15000</td>\n",
              "      <td>15000.0</td>\n",
              "      <td>36 months</td>\n",
              "      <td>BAT4808022</td>\n",
              "      <td>19.72</td>\n",
              "      <td>D</td>\n",
              "      <td>D5</td>\n",
              "      <td>Us office of Personnel Management</td>\n",
              "      <td>10+ years</td>\n",
              "      <td>RENT</td>\n",
              "      <td>105000.0</td>\n",
              "      <td>Not Verified</td>\n",
              "      <td>n</td>\n",
              "      <td>&gt; My goal is to obtain a loan to pay off my hi...</td>\n",
              "      <td>debt_consolidation</td>\n",
              "      <td>Debt consolidation</td>\n",
              "      <td>221xx</td>\n",
              "      <td>VA</td>\n",
              "      <td>14.97</td>\n",
              "      <td>0.0</td>\n",
              "      <td>2.0</td>\n",
              "      <td>46.0</td>\n",
              "      <td>NaN</td>\n",
              "      <td>10.0</td>\n",
              "      <td>0.0</td>\n",
              "      <td>13712.0</td>\n",
              "      <td>55.5</td>\n",
              "      <td>21.0</td>\n",
              "      <td>f</td>\n",
              "      <td>4858.62</td>\n",
              "      <td>0.0</td>\n",
              "      <td>0.0</td>\n",
              "      <td>0.0</td>\n",
              "      <td>0.0</td>\n",
              "      <td>NaN</td>\n",
              "      <td>INDIVIDUAL</td>\n",
              "      <td>NaN</td>\n",
              "      <td>135th week</td>\n",
              "      <td>0.0</td>\n",
              "      <td>0.0</td>\n",
              "      <td>55564.0</td>\n",
              "      <td>24700.0</td>\n",
              "      <td>0</td>\n",
              "    </tr>\n",
              "    <tr>\n",
              "      <th>4</th>\n",
              "      <td>7652106</td>\n",
              "      <td>16000</td>\n",
              "      <td>16000</td>\n",
              "      <td>16000.0</td>\n",
              "      <td>36 months</td>\n",
              "      <td>BAT2833642</td>\n",
              "      <td>10.64</td>\n",
              "      <td>B</td>\n",
              "      <td>B2</td>\n",
              "      <td>LAUSD-HOLLYWOOD HIGH SCHOOL</td>\n",
              "      <td>10+ years</td>\n",
              "      <td>RENT</td>\n",
              "      <td>52000.0</td>\n",
              "      <td>Verified</td>\n",
              "      <td>n</td>\n",
              "      <td>NaN</td>\n",
              "      <td>credit_card</td>\n",
              "      <td>refi</td>\n",
              "      <td>900xx</td>\n",
              "      <td>CA</td>\n",
              "      <td>20.16</td>\n",
              "      <td>0.0</td>\n",
              "      <td>0.0</td>\n",
              "      <td>NaN</td>\n",
              "      <td>NaN</td>\n",
              "      <td>11.0</td>\n",
              "      <td>0.0</td>\n",
              "      <td>35835.0</td>\n",
              "      <td>76.2</td>\n",
              "      <td>27.0</td>\n",
              "      <td>w</td>\n",
              "      <td>2296.41</td>\n",
              "      <td>0.0</td>\n",
              "      <td>0.0</td>\n",
              "      <td>0.0</td>\n",
              "      <td>0.0</td>\n",
              "      <td>NaN</td>\n",
              "      <td>INDIVIDUAL</td>\n",
              "      <td>NaN</td>\n",
              "      <td>96th week</td>\n",
              "      <td>0.0</td>\n",
              "      <td>0.0</td>\n",
              "      <td>47159.0</td>\n",
              "      <td>47033.0</td>\n",
              "      <td>0</td>\n",
              "    </tr>\n",
              "  </tbody>\n",
              "</table>\n",
              "</div>"
            ],
            "text/plain": [
              "   member_id  loan_amnt  ...  total_rev_hi_lim  loan_status\n",
              "0   58189336      14350  ...           30800.0            0\n",
              "1   70011223       4800  ...           32900.0            0\n",
              "2   70255675      10000  ...           34900.0            0\n",
              "3    1893936      15000  ...           24700.0            0\n",
              "4    7652106      16000  ...           47033.0            0\n",
              "\n",
              "[5 rows x 45 columns]"
            ]
          },
          "metadata": {
            "tags": []
          },
          "execution_count": 13
        }
      ]
    },
    {
      "cell_type": "code",
      "metadata": {
        "id": "Dhq7cwr1zu4i",
        "colab_type": "code",
        "colab": {}
      },
      "source": [
        "train['source']='train'\n",
        "test['source']='test'"
      ],
      "execution_count": 14,
      "outputs": []
    },
    {
      "cell_type": "code",
      "metadata": {
        "id": "_0rvuEpSMOOk",
        "colab_type": "code",
        "colab": {
          "base_uri": "https://localhost:8080/",
          "height": 34
        },
        "outputId": "547991e1-5dcf-4a2d-cc1f-057c143d2d7b"
      },
      "source": [
        "train.shape,test.shape"
      ],
      "execution_count": 15,
      "outputs": [
        {
          "output_type": "execute_result",
          "data": {
            "text/plain": [
              "((532428, 46), (354951, 45))"
            ]
          },
          "metadata": {
            "tags": []
          },
          "execution_count": 15
        }
      ]
    },
    {
      "cell_type": "code",
      "metadata": {
        "id": "ERQqv6DqQmkN",
        "colab_type": "code",
        "colab": {}
      },
      "source": [
        "combined=pd.concat([train,test],ignore_index=True)"
      ],
      "execution_count": 16,
      "outputs": []
    },
    {
      "cell_type": "code",
      "metadata": {
        "id": "mhvsdzi9hW59",
        "colab_type": "code",
        "colab": {}
      },
      "source": [
        "df=combined.copy()"
      ],
      "execution_count": 17,
      "outputs": []
    },
    {
      "cell_type": "code",
      "metadata": {
        "id": "RzFPDWDMQfQj",
        "colab_type": "code",
        "colab": {}
      },
      "source": [
        "def missing(df):\n",
        "    missing_number=df.isnull().sum()\n",
        "    missing_percent=100*df.isnull().sum()/len(df)\n",
        "    missing_table=pd.concat([missing_number,missing_percent],axis=1) \n",
        "    missing_table=missing_table.rename(columns={0:'missing_value',1:'percent_missing'})\n",
        "    missing_table=missing_table[missing_table.iloc[:,1]!=0].sort_values('percent_missing',ascending=False)\n",
        "    return missing_table"
      ],
      "execution_count": 18,
      "outputs": []
    },
    {
      "cell_type": "code",
      "metadata": {
        "id": "Ixyi9OY7TB07",
        "colab_type": "code",
        "colab": {
          "base_uri": "https://localhost:8080/",
          "height": 731
        },
        "outputId": "9ea3d802-b5bb-47ea-c2fe-5c83a45069cd"
      },
      "source": [
        "missing(df)"
      ],
      "execution_count": 19,
      "outputs": [
        {
          "output_type": "execute_result",
          "data": {
            "text/html": [
              "<div>\n",
              "<style scoped>\n",
              "    .dataframe tbody tr th:only-of-type {\n",
              "        vertical-align: middle;\n",
              "    }\n",
              "\n",
              "    .dataframe tbody tr th {\n",
              "        vertical-align: top;\n",
              "    }\n",
              "\n",
              "    .dataframe thead th {\n",
              "        text-align: right;\n",
              "    }\n",
              "</style>\n",
              "<table border=\"1\" class=\"dataframe\">\n",
              "  <thead>\n",
              "    <tr style=\"text-align: right;\">\n",
              "      <th></th>\n",
              "      <th>missing_value</th>\n",
              "      <th>percent_missing</th>\n",
              "    </tr>\n",
              "  </thead>\n",
              "  <tbody>\n",
              "    <tr>\n",
              "      <th>verification_status_joint</th>\n",
              "      <td>886868</td>\n",
              "      <td>99.942415</td>\n",
              "    </tr>\n",
              "    <tr>\n",
              "      <th>desc</th>\n",
              "      <td>761599</td>\n",
              "      <td>85.825673</td>\n",
              "    </tr>\n",
              "    <tr>\n",
              "      <th>mths_since_last_record</th>\n",
              "      <td>750326</td>\n",
              "      <td>84.555303</td>\n",
              "    </tr>\n",
              "    <tr>\n",
              "      <th>mths_since_last_major_derog</th>\n",
              "      <td>665676</td>\n",
              "      <td>75.015974</td>\n",
              "    </tr>\n",
              "    <tr>\n",
              "      <th>mths_since_last_delinq</th>\n",
              "      <td>454312</td>\n",
              "      <td>51.197065</td>\n",
              "    </tr>\n",
              "    <tr>\n",
              "      <th>loan_status</th>\n",
              "      <td>354951</td>\n",
              "      <td>39.999932</td>\n",
              "    </tr>\n",
              "    <tr>\n",
              "      <th>batch_enrolled</th>\n",
              "      <td>130748</td>\n",
              "      <td>14.734178</td>\n",
              "    </tr>\n",
              "    <tr>\n",
              "      <th>tot_coll_amt</th>\n",
              "      <td>70276</td>\n",
              "      <td>7.919502</td>\n",
              "    </tr>\n",
              "    <tr>\n",
              "      <th>tot_cur_bal</th>\n",
              "      <td>70276</td>\n",
              "      <td>7.919502</td>\n",
              "    </tr>\n",
              "    <tr>\n",
              "      <th>total_rev_hi_lim</th>\n",
              "      <td>70276</td>\n",
              "      <td>7.919502</td>\n",
              "    </tr>\n",
              "    <tr>\n",
              "      <th>emp_title</th>\n",
              "      <td>51462</td>\n",
              "      <td>5.799326</td>\n",
              "    </tr>\n",
              "    <tr>\n",
              "      <th>emp_length</th>\n",
              "      <td>44825</td>\n",
              "      <td>5.051393</td>\n",
              "    </tr>\n",
              "    <tr>\n",
              "      <th>revol_util</th>\n",
              "      <td>502</td>\n",
              "      <td>0.056571</td>\n",
              "    </tr>\n",
              "    <tr>\n",
              "      <th>title</th>\n",
              "      <td>152</td>\n",
              "      <td>0.017129</td>\n",
              "    </tr>\n",
              "    <tr>\n",
              "      <th>collections_12_mths_ex_med</th>\n",
              "      <td>145</td>\n",
              "      <td>0.016340</td>\n",
              "    </tr>\n",
              "    <tr>\n",
              "      <th>inq_last_6mths</th>\n",
              "      <td>29</td>\n",
              "      <td>0.003268</td>\n",
              "    </tr>\n",
              "    <tr>\n",
              "      <th>delinq_2yrs</th>\n",
              "      <td>29</td>\n",
              "      <td>0.003268</td>\n",
              "    </tr>\n",
              "    <tr>\n",
              "      <th>open_acc</th>\n",
              "      <td>29</td>\n",
              "      <td>0.003268</td>\n",
              "    </tr>\n",
              "    <tr>\n",
              "      <th>total_acc</th>\n",
              "      <td>29</td>\n",
              "      <td>0.003268</td>\n",
              "    </tr>\n",
              "    <tr>\n",
              "      <th>acc_now_delinq</th>\n",
              "      <td>29</td>\n",
              "      <td>0.003268</td>\n",
              "    </tr>\n",
              "    <tr>\n",
              "      <th>pub_rec</th>\n",
              "      <td>29</td>\n",
              "      <td>0.003268</td>\n",
              "    </tr>\n",
              "    <tr>\n",
              "      <th>annual_inc</th>\n",
              "      <td>4</td>\n",
              "      <td>0.000451</td>\n",
              "    </tr>\n",
              "  </tbody>\n",
              "</table>\n",
              "</div>"
            ],
            "text/plain": [
              "                             missing_value  percent_missing\n",
              "verification_status_joint           886868        99.942415\n",
              "desc                                761599        85.825673\n",
              "mths_since_last_record              750326        84.555303\n",
              "mths_since_last_major_derog         665676        75.015974\n",
              "mths_since_last_delinq              454312        51.197065\n",
              "loan_status                         354951        39.999932\n",
              "batch_enrolled                      130748        14.734178\n",
              "tot_coll_amt                         70276         7.919502\n",
              "tot_cur_bal                          70276         7.919502\n",
              "total_rev_hi_lim                     70276         7.919502\n",
              "emp_title                            51462         5.799326\n",
              "emp_length                           44825         5.051393\n",
              "revol_util                             502         0.056571\n",
              "title                                  152         0.017129\n",
              "collections_12_mths_ex_med             145         0.016340\n",
              "inq_last_6mths                          29         0.003268\n",
              "delinq_2yrs                             29         0.003268\n",
              "open_acc                                29         0.003268\n",
              "total_acc                               29         0.003268\n",
              "acc_now_delinq                          29         0.003268\n",
              "pub_rec                                 29         0.003268\n",
              "annual_inc                               4         0.000451"
            ]
          },
          "metadata": {
            "tags": []
          },
          "execution_count": 19
        }
      ]
    },
    {
      "cell_type": "code",
      "metadata": {
        "id": "bvOzLjePbU6L",
        "colab_type": "code",
        "colab": {}
      },
      "source": [
        "df['diff_funds']=df.funded_amnt-df.funded_amnt_inv"
      ],
      "execution_count": 20,
      "outputs": []
    },
    {
      "cell_type": "code",
      "metadata": {
        "id": "H6X2-m3h_nMz",
        "colab_type": "code",
        "colab": {}
      },
      "source": [
        "df['diff_loan_funds']=df.loan_amnt-(df.funded_amnt+df.funded_amnt_inv)/2"
      ],
      "execution_count": 21,
      "outputs": []
    },
    {
      "cell_type": "code",
      "metadata": {
        "id": "Zi63WY8X9Y8a",
        "colab_type": "code",
        "colab": {
          "base_uri": "https://localhost:8080/",
          "height": 122
        },
        "outputId": "21a7d22c-51ee-4418-efef-abd798ecd750"
      },
      "source": [
        "df.batch_enrolled[~df.batch_enrolled.isna()]=1"
      ],
      "execution_count": 22,
      "outputs": [
        {
          "output_type": "stream",
          "text": [
            "/usr/local/lib/python3.6/dist-packages/ipykernel_launcher.py:1: SettingWithCopyWarning: \n",
            "A value is trying to be set on a copy of a slice from a DataFrame\n",
            "\n",
            "See the caveats in the documentation: https://pandas.pydata.org/pandas-docs/stable/user_guide/indexing.html#returning-a-view-versus-a-copy\n",
            "  \"\"\"Entry point for launching an IPython kernel.\n"
          ],
          "name": "stderr"
        }
      ]
    },
    {
      "cell_type": "code",
      "metadata": {
        "id": "KldrVjyT-6ek",
        "colab_type": "code",
        "colab": {
          "base_uri": "https://localhost:8080/",
          "height": 122
        },
        "outputId": "480c0a3f-424b-4501-a045-c6a64e9503f2"
      },
      "source": [
        "df.batch_enrolled[df.batch_enrolled.isna()]=0"
      ],
      "execution_count": 23,
      "outputs": [
        {
          "output_type": "stream",
          "text": [
            "/usr/local/lib/python3.6/dist-packages/ipykernel_launcher.py:1: SettingWithCopyWarning: \n",
            "A value is trying to be set on a copy of a slice from a DataFrame\n",
            "\n",
            "See the caveats in the documentation: https://pandas.pydata.org/pandas-docs/stable/user_guide/indexing.html#returning-a-view-versus-a-copy\n",
            "  \"\"\"Entry point for launching an IPython kernel.\n"
          ],
          "name": "stderr"
        }
      ]
    },
    {
      "cell_type": "code",
      "metadata": {
        "id": "oJBwhX3o_O2g",
        "colab_type": "code",
        "colab": {
          "base_uri": "https://localhost:8080/",
          "height": 68
        },
        "outputId": "ed29b3ec-cbe0-4246-b6c3-74530cc47d7d"
      },
      "source": [
        "df.batch_enrolled.value_counts()"
      ],
      "execution_count": 24,
      "outputs": [
        {
          "output_type": "execute_result",
          "data": {
            "text/plain": [
              "1    756631\n",
              "0    130748\n",
              "Name: batch_enrolled, dtype: int64"
            ]
          },
          "metadata": {
            "tags": []
          },
          "execution_count": 24
        }
      ]
    },
    {
      "cell_type": "code",
      "metadata": {
        "id": "mJfL3PbsAL5t",
        "colab_type": "code",
        "colab": {}
      },
      "source": [
        "df.rename(columns={'batch_enrolled':'is_enrolled'},inplace=True)"
      ],
      "execution_count": 25,
      "outputs": []
    },
    {
      "cell_type": "code",
      "metadata": {
        "id": "dWXsai-ZOWgZ",
        "colab_type": "code",
        "colab": {
          "base_uri": "https://localhost:8080/",
          "height": 221
        },
        "outputId": "1211fd02-94c6-4fd3-864e-09e4badfd57d"
      },
      "source": [
        "df.emp_title.value_counts()"
      ],
      "execution_count": 26,
      "outputs": [
        {
          "output_type": "execute_result",
          "data": {
            "text/plain": [
              "Teacher                            13807\n",
              "Manager                            11638\n",
              "Registered Nurse                    5691\n",
              "Owner                               5512\n",
              "RN                                  5491\n",
              "                                   ...  \n",
              "Microsystems, Inc                      1\n",
              "logisticize llc                        1\n",
              "Head of Industry                       1\n",
              "VP,  Banking Center Manager III        1\n",
              "Registered Client Assoc                1\n",
              "Name: emp_title, Length: 289206, dtype: int64"
            ]
          },
          "metadata": {
            "tags": []
          },
          "execution_count": 26
        }
      ]
    },
    {
      "cell_type": "code",
      "metadata": {
        "id": "zS2jS33gcpgf",
        "colab_type": "code",
        "colab": {}
      },
      "source": [
        "df.drop(columns=['verification_status_joint','desc','mths_since_last_record','mths_since_last_major_derog','emp_title'],\n",
        "        inplace=True)"
      ],
      "execution_count": 27,
      "outputs": []
    },
    {
      "cell_type": "code",
      "metadata": {
        "id": "MQ0Pc4n04UE8",
        "colab_type": "code",
        "colab": {
          "base_uri": "https://localhost:8080/",
          "height": 122
        },
        "outputId": "7a39d0ce-3570-4b99-eac3-9d05afdd76e5"
      },
      "source": [
        "df.mths_since_last_delinq[~df.mths_since_last_delinq.isna()]=1"
      ],
      "execution_count": 28,
      "outputs": [
        {
          "output_type": "stream",
          "text": [
            "/usr/local/lib/python3.6/dist-packages/ipykernel_launcher.py:1: SettingWithCopyWarning: \n",
            "A value is trying to be set on a copy of a slice from a DataFrame\n",
            "\n",
            "See the caveats in the documentation: https://pandas.pydata.org/pandas-docs/stable/user_guide/indexing.html#returning-a-view-versus-a-copy\n",
            "  \"\"\"Entry point for launching an IPython kernel.\n"
          ],
          "name": "stderr"
        }
      ]
    },
    {
      "cell_type": "code",
      "metadata": {
        "id": "tN96v986mSEu",
        "colab_type": "code",
        "colab": {
          "base_uri": "https://localhost:8080/",
          "height": 122
        },
        "outputId": "ee79a352-7e55-479a-ddd8-5b0fd061caff"
      },
      "source": [
        "df.mths_since_last_delinq[df.mths_since_last_delinq.isna()]=0"
      ],
      "execution_count": 29,
      "outputs": [
        {
          "output_type": "stream",
          "text": [
            "/usr/local/lib/python3.6/dist-packages/ipykernel_launcher.py:1: SettingWithCopyWarning: \n",
            "A value is trying to be set on a copy of a slice from a DataFrame\n",
            "\n",
            "See the caveats in the documentation: https://pandas.pydata.org/pandas-docs/stable/user_guide/indexing.html#returning-a-view-versus-a-copy\n",
            "  \"\"\"Entry point for launching an IPython kernel.\n"
          ],
          "name": "stderr"
        }
      ]
    },
    {
      "cell_type": "code",
      "metadata": {
        "id": "Ttt2sG2jX6_N",
        "colab_type": "code",
        "colab": {
          "base_uri": "https://localhost:8080/",
          "height": 68
        },
        "outputId": "c6f98456-f2ec-464b-c48b-6eb6b1decc0a"
      },
      "source": [
        "df.mths_since_last_delinq.value_counts()"
      ],
      "execution_count": 30,
      "outputs": [
        {
          "output_type": "execute_result",
          "data": {
            "text/plain": [
              "0.0    454312\n",
              "1.0    433067\n",
              "Name: mths_since_last_delinq, dtype: int64"
            ]
          },
          "metadata": {
            "tags": []
          },
          "execution_count": 30
        }
      ]
    },
    {
      "cell_type": "code",
      "metadata": {
        "id": "wDZAmUEnX-ZF",
        "colab_type": "code",
        "colab": {}
      },
      "source": [
        "df.rename(columns={'mths_since_last_delinq':'mths_since_last_delinq_missing'},inplace=True)"
      ],
      "execution_count": 31,
      "outputs": []
    },
    {
      "cell_type": "code",
      "metadata": {
        "id": "g9tcG_y8cF9a",
        "colab_type": "code",
        "colab": {}
      },
      "source": [
        "def impute(df):\n",
        "    for col in df.columns:\n",
        "        if(df[col].isnull().sum()>0):\n",
        "            if(df[col].dtype=='object'):\n",
        "                df[col].fillna(df[col].mode()[0],inplace=True)\n",
        "            else:\n",
        "                df[col].fillna(df[col].mean(),inplace=True)"
      ],
      "execution_count": 32,
      "outputs": []
    },
    {
      "cell_type": "code",
      "metadata": {
        "id": "6KHNhrHze0it",
        "colab_type": "code",
        "colab": {}
      },
      "source": [
        "impute(df)"
      ],
      "execution_count": 33,
      "outputs": []
    },
    {
      "cell_type": "code",
      "metadata": {
        "id": "T3tIC_cziKZL",
        "colab_type": "code",
        "colab": {
          "base_uri": "https://localhost:8080/",
          "height": 765
        },
        "outputId": "47debfcb-f2d4-49f5-9a80-15082bc78e18"
      },
      "source": [
        "df.isnull().sum()"
      ],
      "execution_count": 34,
      "outputs": [
        {
          "output_type": "execute_result",
          "data": {
            "text/plain": [
              "member_id                         0\n",
              "loan_amnt                         0\n",
              "funded_amnt                       0\n",
              "funded_amnt_inv                   0\n",
              "term                              0\n",
              "is_enrolled                       0\n",
              "int_rate                          0\n",
              "grade                             0\n",
              "sub_grade                         0\n",
              "emp_length                        0\n",
              "home_ownership                    0\n",
              "annual_inc                        0\n",
              "verification_status               0\n",
              "pymnt_plan                        0\n",
              "purpose                           0\n",
              "title                             0\n",
              "zip_code                          0\n",
              "addr_state                        0\n",
              "dti                               0\n",
              "delinq_2yrs                       0\n",
              "inq_last_6mths                    0\n",
              "mths_since_last_delinq_missing    0\n",
              "open_acc                          0\n",
              "pub_rec                           0\n",
              "revol_bal                         0\n",
              "revol_util                        0\n",
              "total_acc                         0\n",
              "initial_list_status               0\n",
              "total_rec_int                     0\n",
              "total_rec_late_fee                0\n",
              "recoveries                        0\n",
              "collection_recovery_fee           0\n",
              "collections_12_mths_ex_med        0\n",
              "application_type                  0\n",
              "last_week_pay                     0\n",
              "acc_now_delinq                    0\n",
              "tot_coll_amt                      0\n",
              "tot_cur_bal                       0\n",
              "total_rev_hi_lim                  0\n",
              "loan_status                       0\n",
              "source                            0\n",
              "diff_funds                        0\n",
              "diff_loan_funds                   0\n",
              "dtype: int64"
            ]
          },
          "metadata": {
            "tags": []
          },
          "execution_count": 34
        }
      ]
    },
    {
      "cell_type": "code",
      "metadata": {
        "id": "5FrQXhbKiMrx",
        "colab_type": "code",
        "colab": {
          "base_uri": "https://localhost:8080/",
          "height": 906
        },
        "outputId": "65f31d80-1eab-4ac4-b601-55dcf4ab6314"
      },
      "source": [
        "df.corr()"
      ],
      "execution_count": 35,
      "outputs": [
        {
          "output_type": "execute_result",
          "data": {
            "text/html": [
              "<div>\n",
              "<style scoped>\n",
              "    .dataframe tbody tr th:only-of-type {\n",
              "        vertical-align: middle;\n",
              "    }\n",
              "\n",
              "    .dataframe tbody tr th {\n",
              "        vertical-align: top;\n",
              "    }\n",
              "\n",
              "    .dataframe thead th {\n",
              "        text-align: right;\n",
              "    }\n",
              "</style>\n",
              "<table border=\"1\" class=\"dataframe\">\n",
              "  <thead>\n",
              "    <tr style=\"text-align: right;\">\n",
              "      <th></th>\n",
              "      <th>member_id</th>\n",
              "      <th>loan_amnt</th>\n",
              "      <th>funded_amnt</th>\n",
              "      <th>funded_amnt_inv</th>\n",
              "      <th>int_rate</th>\n",
              "      <th>annual_inc</th>\n",
              "      <th>dti</th>\n",
              "      <th>delinq_2yrs</th>\n",
              "      <th>inq_last_6mths</th>\n",
              "      <th>mths_since_last_delinq_missing</th>\n",
              "      <th>open_acc</th>\n",
              "      <th>pub_rec</th>\n",
              "      <th>revol_bal</th>\n",
              "      <th>revol_util</th>\n",
              "      <th>total_acc</th>\n",
              "      <th>total_rec_int</th>\n",
              "      <th>total_rec_late_fee</th>\n",
              "      <th>recoveries</th>\n",
              "      <th>collection_recovery_fee</th>\n",
              "      <th>collections_12_mths_ex_med</th>\n",
              "      <th>acc_now_delinq</th>\n",
              "      <th>tot_coll_amt</th>\n",
              "      <th>tot_cur_bal</th>\n",
              "      <th>total_rev_hi_lim</th>\n",
              "      <th>loan_status</th>\n",
              "      <th>diff_funds</th>\n",
              "      <th>diff_loan_funds</th>\n",
              "    </tr>\n",
              "  </thead>\n",
              "  <tbody>\n",
              "    <tr>\n",
              "      <th>member_id</th>\n",
              "      <td>1.000000</td>\n",
              "      <td>0.064461</td>\n",
              "      <td>0.066754</td>\n",
              "      <td>0.072308</td>\n",
              "      <td>-0.142205</td>\n",
              "      <td>0.034146</td>\n",
              "      <td>0.067824</td>\n",
              "      <td>0.049902</td>\n",
              "      <td>-0.127252</td>\n",
              "      <td>0.069499</td>\n",
              "      <td>0.088835</td>\n",
              "      <td>0.080785</td>\n",
              "      <td>0.036416</td>\n",
              "      <td>-0.054854</td>\n",
              "      <td>0.031691</td>\n",
              "      <td>-0.461098</td>\n",
              "      <td>-0.076388</td>\n",
              "      <td>-0.114473</td>\n",
              "      <td>-0.072818</td>\n",
              "      <td>0.051437</td>\n",
              "      <td>0.016961</td>\n",
              "      <td>0.003910</td>\n",
              "      <td>0.007286</td>\n",
              "      <td>0.044331</td>\n",
              "      <td>-0.379489</td>\n",
              "      <td>-0.089949</td>\n",
              "      <td>-0.098868</td>\n",
              "    </tr>\n",
              "    <tr>\n",
              "      <th>loan_amnt</th>\n",
              "      <td>0.064461</td>\n",
              "      <td>1.000000</td>\n",
              "      <td>0.999263</td>\n",
              "      <td>0.997115</td>\n",
              "      <td>0.145023</td>\n",
              "      <td>0.332697</td>\n",
              "      <td>0.020675</td>\n",
              "      <td>-0.000159</td>\n",
              "      <td>-0.034167</td>\n",
              "      <td>-0.015733</td>\n",
              "      <td>0.198900</td>\n",
              "      <td>-0.081175</td>\n",
              "      <td>0.333580</td>\n",
              "      <td>0.119517</td>\n",
              "      <td>0.222633</td>\n",
              "      <td>0.533916</td>\n",
              "      <td>0.031395</td>\n",
              "      <td>0.073150</td>\n",
              "      <td>0.052205</td>\n",
              "      <td>-0.016648</td>\n",
              "      <td>0.003947</td>\n",
              "      <td>-0.004108</td>\n",
              "      <td>0.315930</td>\n",
              "      <td>0.300226</td>\n",
              "      <td>-0.074130</td>\n",
              "      <td>0.011179</td>\n",
              "      <td>0.034028</td>\n",
              "    </tr>\n",
              "    <tr>\n",
              "      <th>funded_amnt</th>\n",
              "      <td>0.066754</td>\n",
              "      <td>0.999263</td>\n",
              "      <td>1.000000</td>\n",
              "      <td>0.998025</td>\n",
              "      <td>0.145160</td>\n",
              "      <td>0.332466</td>\n",
              "      <td>0.021075</td>\n",
              "      <td>0.000151</td>\n",
              "      <td>-0.034710</td>\n",
              "      <td>-0.015207</td>\n",
              "      <td>0.199382</td>\n",
              "      <td>-0.080834</td>\n",
              "      <td>0.333435</td>\n",
              "      <td>0.120012</td>\n",
              "      <td>0.222568</td>\n",
              "      <td>0.532864</td>\n",
              "      <td>0.031075</td>\n",
              "      <td>0.072687</td>\n",
              "      <td>0.051955</td>\n",
              "      <td>-0.016489</td>\n",
              "      <td>0.004051</td>\n",
              "      <td>-0.004110</td>\n",
              "      <td>0.316137</td>\n",
              "      <td>0.300423</td>\n",
              "      <td>-0.075566</td>\n",
              "      <td>0.008416</td>\n",
              "      <td>0.003624</td>\n",
              "    </tr>\n",
              "    <tr>\n",
              "      <th>funded_amnt_inv</th>\n",
              "      <td>0.072308</td>\n",
              "      <td>0.997115</td>\n",
              "      <td>0.998025</td>\n",
              "      <td>1.000000</td>\n",
              "      <td>0.145205</td>\n",
              "      <td>0.331419</td>\n",
              "      <td>0.022185</td>\n",
              "      <td>0.000648</td>\n",
              "      <td>-0.038878</td>\n",
              "      <td>-0.015766</td>\n",
              "      <td>0.199996</td>\n",
              "      <td>-0.079787</td>\n",
              "      <td>0.331736</td>\n",
              "      <td>0.120708</td>\n",
              "      <td>0.222783</td>\n",
              "      <td>0.530382</td>\n",
              "      <td>0.027961</td>\n",
              "      <td>0.070751</td>\n",
              "      <td>0.049392</td>\n",
              "      <td>-0.016060</td>\n",
              "      <td>0.004245</td>\n",
              "      <td>-0.004102</td>\n",
              "      <td>0.315577</td>\n",
              "      <td>0.299903</td>\n",
              "      <td>-0.078906</td>\n",
              "      <td>-0.054415</td>\n",
              "      <td>-0.038226</td>\n",
              "    </tr>\n",
              "    <tr>\n",
              "      <th>int_rate</th>\n",
              "      <td>-0.142205</td>\n",
              "      <td>0.145023</td>\n",
              "      <td>0.145160</td>\n",
              "      <td>0.145205</td>\n",
              "      <td>1.000000</td>\n",
              "      <td>-0.072785</td>\n",
              "      <td>0.079903</td>\n",
              "      <td>0.055177</td>\n",
              "      <td>0.227647</td>\n",
              "      <td>0.079790</td>\n",
              "      <td>-0.010381</td>\n",
              "      <td>0.052155</td>\n",
              "      <td>-0.035708</td>\n",
              "      <td>0.269052</td>\n",
              "      <td>-0.038618</td>\n",
              "      <td>0.445679</td>\n",
              "      <td>0.057150</td>\n",
              "      <td>0.106840</td>\n",
              "      <td>0.070867</td>\n",
              "      <td>0.013335</td>\n",
              "      <td>0.026478</td>\n",
              "      <td>0.001090</td>\n",
              "      <td>-0.088222</td>\n",
              "      <td>-0.160330</td>\n",
              "      <td>0.002005</td>\n",
              "      <td>-0.004057</td>\n",
              "      <td>-0.003294</td>\n",
              "    </tr>\n",
              "    <tr>\n",
              "      <th>annual_inc</th>\n",
              "      <td>0.034146</td>\n",
              "      <td>0.332697</td>\n",
              "      <td>0.332466</td>\n",
              "      <td>0.331419</td>\n",
              "      <td>-0.072785</td>\n",
              "      <td>1.000000</td>\n",
              "      <td>-0.087409</td>\n",
              "      <td>0.047469</td>\n",
              "      <td>0.035193</td>\n",
              "      <td>0.053346</td>\n",
              "      <td>0.138390</td>\n",
              "      <td>-0.008341</td>\n",
              "      <td>0.295783</td>\n",
              "      <td>0.036713</td>\n",
              "      <td>0.187332</td>\n",
              "      <td>0.128535</td>\n",
              "      <td>0.013500</td>\n",
              "      <td>0.007717</td>\n",
              "      <td>0.006630</td>\n",
              "      <td>-0.003936</td>\n",
              "      <td>0.014775</td>\n",
              "      <td>0.001062</td>\n",
              "      <td>0.405282</td>\n",
              "      <td>0.260473</td>\n",
              "      <td>-0.006710</td>\n",
              "      <td>0.009009</td>\n",
              "      <td>0.014283</td>\n",
              "    </tr>\n",
              "    <tr>\n",
              "      <th>dti</th>\n",
              "      <td>0.067824</td>\n",
              "      <td>0.020675</td>\n",
              "      <td>0.021075</td>\n",
              "      <td>0.022185</td>\n",
              "      <td>0.079903</td>\n",
              "      <td>-0.087409</td>\n",
              "      <td>1.000000</td>\n",
              "      <td>-0.002831</td>\n",
              "      <td>-0.008106</td>\n",
              "      <td>-0.012618</td>\n",
              "      <td>0.144249</td>\n",
              "      <td>-0.022925</td>\n",
              "      <td>0.067277</td>\n",
              "      <td>0.087836</td>\n",
              "      <td>0.108055</td>\n",
              "      <td>0.008380</td>\n",
              "      <td>-0.005748</td>\n",
              "      <td>0.001162</td>\n",
              "      <td>0.002159</td>\n",
              "      <td>-0.000292</td>\n",
              "      <td>0.003205</td>\n",
              "      <td>-0.002066</td>\n",
              "      <td>-0.007218</td>\n",
              "      <td>0.032651</td>\n",
              "      <td>-0.050540</td>\n",
              "      <td>-0.018162</td>\n",
              "      <td>-0.018628</td>\n",
              "    </tr>\n",
              "    <tr>\n",
              "      <th>delinq_2yrs</th>\n",
              "      <td>0.049902</td>\n",
              "      <td>-0.000159</td>\n",
              "      <td>0.000151</td>\n",
              "      <td>0.000648</td>\n",
              "      <td>0.055177</td>\n",
              "      <td>0.047469</td>\n",
              "      <td>-0.002831</td>\n",
              "      <td>1.000000</td>\n",
              "      <td>0.021375</td>\n",
              "      <td>0.361819</td>\n",
              "      <td>0.051189</td>\n",
              "      <td>-0.011004</td>\n",
              "      <td>-0.032486</td>\n",
              "      <td>-0.017250</td>\n",
              "      <td>0.122713</td>\n",
              "      <td>0.001665</td>\n",
              "      <td>0.017423</td>\n",
              "      <td>-0.000729</td>\n",
              "      <td>0.000989</td>\n",
              "      <td>0.063006</td>\n",
              "      <td>0.130326</td>\n",
              "      <td>0.000204</td>\n",
              "      <td>0.063706</td>\n",
              "      <td>-0.040400</td>\n",
              "      <td>-0.035321</td>\n",
              "      <td>-0.007906</td>\n",
              "      <td>-0.010872</td>\n",
              "    </tr>\n",
              "    <tr>\n",
              "      <th>inq_last_6mths</th>\n",
              "      <td>-0.127252</td>\n",
              "      <td>-0.034167</td>\n",
              "      <td>-0.034710</td>\n",
              "      <td>-0.038878</td>\n",
              "      <td>0.227647</td>\n",
              "      <td>0.035193</td>\n",
              "      <td>-0.008106</td>\n",
              "      <td>0.021375</td>\n",
              "      <td>1.000000</td>\n",
              "      <td>0.034441</td>\n",
              "      <td>0.111235</td>\n",
              "      <td>0.056870</td>\n",
              "      <td>-0.017556</td>\n",
              "      <td>-0.087749</td>\n",
              "      <td>0.135584</td>\n",
              "      <td>0.085584</td>\n",
              "      <td>0.031620</td>\n",
              "      <td>0.045586</td>\n",
              "      <td>0.033992</td>\n",
              "      <td>0.006843</td>\n",
              "      <td>-0.005329</td>\n",
              "      <td>0.002921</td>\n",
              "      <td>0.031633</td>\n",
              "      <td>0.005440</td>\n",
              "      <td>0.067553</td>\n",
              "      <td>0.067148</td>\n",
              "      <td>0.051238</td>\n",
              "    </tr>\n",
              "    <tr>\n",
              "      <th>mths_since_last_delinq_missing</th>\n",
              "      <td>0.069499</td>\n",
              "      <td>-0.015733</td>\n",
              "      <td>-0.015207</td>\n",
              "      <td>-0.015766</td>\n",
              "      <td>0.079790</td>\n",
              "      <td>0.053346</td>\n",
              "      <td>-0.012618</td>\n",
              "      <td>0.361819</td>\n",
              "      <td>0.034441</td>\n",
              "      <td>1.000000</td>\n",
              "      <td>0.050455</td>\n",
              "      <td>0.033448</td>\n",
              "      <td>-0.073275</td>\n",
              "      <td>-0.020101</td>\n",
              "      <td>0.175321</td>\n",
              "      <td>-0.005806</td>\n",
              "      <td>0.014889</td>\n",
              "      <td>-0.004276</td>\n",
              "      <td>-0.000759</td>\n",
              "      <td>0.050846</td>\n",
              "      <td>0.065564</td>\n",
              "      <td>0.013189</td>\n",
              "      <td>0.053983</td>\n",
              "      <td>-0.085092</td>\n",
              "      <td>-0.038011</td>\n",
              "      <td>0.009255</td>\n",
              "      <td>-0.004764</td>\n",
              "    </tr>\n",
              "    <tr>\n",
              "      <th>open_acc</th>\n",
              "      <td>0.088835</td>\n",
              "      <td>0.198900</td>\n",
              "      <td>0.199382</td>\n",
              "      <td>0.199996</td>\n",
              "      <td>-0.010381</td>\n",
              "      <td>0.138390</td>\n",
              "      <td>0.144249</td>\n",
              "      <td>0.051189</td>\n",
              "      <td>0.111235</td>\n",
              "      <td>0.050455</td>\n",
              "      <td>1.000000</td>\n",
              "      <td>-0.025301</td>\n",
              "      <td>0.224540</td>\n",
              "      <td>-0.143828</td>\n",
              "      <td>0.695075</td>\n",
              "      <td>0.061222</td>\n",
              "      <td>-0.009601</td>\n",
              "      <td>0.001560</td>\n",
              "      <td>0.003215</td>\n",
              "      <td>0.009609</td>\n",
              "      <td>0.017752</td>\n",
              "      <td>0.000120</td>\n",
              "      <td>0.235886</td>\n",
              "      <td>0.314781</td>\n",
              "      <td>-0.050328</td>\n",
              "      <td>-0.014362</td>\n",
              "      <td>-0.015618</td>\n",
              "    </tr>\n",
              "    <tr>\n",
              "      <th>pub_rec</th>\n",
              "      <td>0.080785</td>\n",
              "      <td>-0.081175</td>\n",
              "      <td>-0.080834</td>\n",
              "      <td>-0.079787</td>\n",
              "      <td>0.052155</td>\n",
              "      <td>-0.008341</td>\n",
              "      <td>-0.022925</td>\n",
              "      <td>-0.011004</td>\n",
              "      <td>0.056870</td>\n",
              "      <td>0.033448</td>\n",
              "      <td>-0.025301</td>\n",
              "      <td>1.000000</td>\n",
              "      <td>-0.100609</td>\n",
              "      <td>-0.079669</td>\n",
              "      <td>0.012472</td>\n",
              "      <td>-0.060063</td>\n",
              "      <td>-0.011439</td>\n",
              "      <td>-0.014476</td>\n",
              "      <td>-0.008791</td>\n",
              "      <td>0.021038</td>\n",
              "      <td>0.000349</td>\n",
              "      <td>0.006832</td>\n",
              "      <td>-0.075163</td>\n",
              "      <td>-0.099284</td>\n",
              "      <td>-0.037976</td>\n",
              "      <td>-0.014804</td>\n",
              "      <td>-0.016744</td>\n",
              "    </tr>\n",
              "    <tr>\n",
              "      <th>revol_bal</th>\n",
              "      <td>0.036416</td>\n",
              "      <td>0.333580</td>\n",
              "      <td>0.333435</td>\n",
              "      <td>0.331736</td>\n",
              "      <td>-0.035708</td>\n",
              "      <td>0.295783</td>\n",
              "      <td>0.067277</td>\n",
              "      <td>-0.032486</td>\n",
              "      <td>-0.017556</td>\n",
              "      <td>-0.073275</td>\n",
              "      <td>0.224540</td>\n",
              "      <td>-0.100609</td>\n",
              "      <td>1.000000</td>\n",
              "      <td>0.215988</td>\n",
              "      <td>0.189103</td>\n",
              "      <td>0.137380</td>\n",
              "      <td>0.002774</td>\n",
              "      <td>0.010828</td>\n",
              "      <td>0.008151</td>\n",
              "      <td>-0.022850</td>\n",
              "      <td>-0.000855</td>\n",
              "      <td>-0.006036</td>\n",
              "      <td>0.429024</td>\n",
              "      <td>0.797016</td>\n",
              "      <td>-0.031019</td>\n",
              "      <td>0.019373</td>\n",
              "      <td>0.018957</td>\n",
              "    </tr>\n",
              "    <tr>\n",
              "      <th>revol_util</th>\n",
              "      <td>-0.054854</td>\n",
              "      <td>0.119517</td>\n",
              "      <td>0.120012</td>\n",
              "      <td>0.120708</td>\n",
              "      <td>0.269052</td>\n",
              "      <td>0.036713</td>\n",
              "      <td>0.087836</td>\n",
              "      <td>-0.017250</td>\n",
              "      <td>-0.087749</td>\n",
              "      <td>-0.020101</td>\n",
              "      <td>-0.143828</td>\n",
              "      <td>-0.079669</td>\n",
              "      <td>0.215988</td>\n",
              "      <td>1.000000</td>\n",
              "      <td>-0.113187</td>\n",
              "      <td>0.183437</td>\n",
              "      <td>0.022168</td>\n",
              "      <td>0.028554</td>\n",
              "      <td>0.018792</td>\n",
              "      <td>-0.036123</td>\n",
              "      <td>-0.027677</td>\n",
              "      <td>-0.008997</td>\n",
              "      <td>0.076368</td>\n",
              "      <td>-0.111026</td>\n",
              "      <td>-0.036574</td>\n",
              "      <td>-0.013835</td>\n",
              "      <td>-0.016577</td>\n",
              "    </tr>\n",
              "    <tr>\n",
              "      <th>total_acc</th>\n",
              "      <td>0.031691</td>\n",
              "      <td>0.222633</td>\n",
              "      <td>0.222568</td>\n",
              "      <td>0.222783</td>\n",
              "      <td>-0.038618</td>\n",
              "      <td>0.187332</td>\n",
              "      <td>0.108055</td>\n",
              "      <td>0.122713</td>\n",
              "      <td>0.135584</td>\n",
              "      <td>0.175321</td>\n",
              "      <td>0.695075</td>\n",
              "      <td>0.012472</td>\n",
              "      <td>0.189103</td>\n",
              "      <td>-0.113187</td>\n",
              "      <td>1.000000</td>\n",
              "      <td>0.091913</td>\n",
              "      <td>-0.004902</td>\n",
              "      <td>0.009364</td>\n",
              "      <td>0.010319</td>\n",
              "      <td>0.008825</td>\n",
              "      <td>0.026461</td>\n",
              "      <td>0.006268</td>\n",
              "      <td>0.298828</td>\n",
              "      <td>0.245791</td>\n",
              "      <td>-0.002039</td>\n",
              "      <td>-0.008538</td>\n",
              "      <td>-0.001116</td>\n",
              "    </tr>\n",
              "    <tr>\n",
              "      <th>total_rec_int</th>\n",
              "      <td>-0.461098</td>\n",
              "      <td>0.533916</td>\n",
              "      <td>0.532864</td>\n",
              "      <td>0.530382</td>\n",
              "      <td>0.445679</td>\n",
              "      <td>0.128535</td>\n",
              "      <td>0.008380</td>\n",
              "      <td>0.001665</td>\n",
              "      <td>0.085584</td>\n",
              "      <td>-0.005806</td>\n",
              "      <td>0.061222</td>\n",
              "      <td>-0.060063</td>\n",
              "      <td>0.137380</td>\n",
              "      <td>0.183437</td>\n",
              "      <td>0.091913</td>\n",
              "      <td>1.000000</td>\n",
              "      <td>0.090391</td>\n",
              "      <td>0.067777</td>\n",
              "      <td>0.051901</td>\n",
              "      <td>-0.024998</td>\n",
              "      <td>0.002260</td>\n",
              "      <td>-0.003320</td>\n",
              "      <td>0.121613</td>\n",
              "      <td>0.066227</td>\n",
              "      <td>0.029671</td>\n",
              "      <td>0.027258</td>\n",
              "      <td>0.044000</td>\n",
              "    </tr>\n",
              "    <tr>\n",
              "      <th>total_rec_late_fee</th>\n",
              "      <td>-0.076388</td>\n",
              "      <td>0.031395</td>\n",
              "      <td>0.031075</td>\n",
              "      <td>0.027961</td>\n",
              "      <td>0.057150</td>\n",
              "      <td>0.013500</td>\n",
              "      <td>-0.005748</td>\n",
              "      <td>0.017423</td>\n",
              "      <td>0.031620</td>\n",
              "      <td>0.014889</td>\n",
              "      <td>-0.009601</td>\n",
              "      <td>-0.011439</td>\n",
              "      <td>0.002774</td>\n",
              "      <td>0.022168</td>\n",
              "      <td>-0.004902</td>\n",
              "      <td>0.090391</td>\n",
              "      <td>1.000000</td>\n",
              "      <td>0.073540</td>\n",
              "      <td>0.068419</td>\n",
              "      <td>-0.003068</td>\n",
              "      <td>0.003119</td>\n",
              "      <td>-0.000435</td>\n",
              "      <td>0.009866</td>\n",
              "      <td>-0.004575</td>\n",
              "      <td>-0.003375</td>\n",
              "      <td>0.048859</td>\n",
              "      <td>0.036529</td>\n",
              "    </tr>\n",
              "    <tr>\n",
              "      <th>recoveries</th>\n",
              "      <td>-0.114473</td>\n",
              "      <td>0.073150</td>\n",
              "      <td>0.072687</td>\n",
              "      <td>0.070751</td>\n",
              "      <td>0.106840</td>\n",
              "      <td>0.007717</td>\n",
              "      <td>0.001162</td>\n",
              "      <td>-0.000729</td>\n",
              "      <td>0.045586</td>\n",
              "      <td>-0.004276</td>\n",
              "      <td>0.001560</td>\n",
              "      <td>-0.014476</td>\n",
              "      <td>0.010828</td>\n",
              "      <td>0.028554</td>\n",
              "      <td>0.009364</td>\n",
              "      <td>0.067777</td>\n",
              "      <td>0.073540</td>\n",
              "      <td>1.000000</td>\n",
              "      <td>0.802420</td>\n",
              "      <td>-0.004791</td>\n",
              "      <td>0.000711</td>\n",
              "      <td>-0.000807</td>\n",
              "      <td>0.003686</td>\n",
              "      <td>0.000090</td>\n",
              "      <td>-0.048084</td>\n",
              "      <td>0.029145</td>\n",
              "      <td>0.027791</td>\n",
              "    </tr>\n",
              "    <tr>\n",
              "      <th>collection_recovery_fee</th>\n",
              "      <td>-0.072818</td>\n",
              "      <td>0.052205</td>\n",
              "      <td>0.051955</td>\n",
              "      <td>0.049392</td>\n",
              "      <td>0.070867</td>\n",
              "      <td>0.006630</td>\n",
              "      <td>0.002159</td>\n",
              "      <td>0.000989</td>\n",
              "      <td>0.033992</td>\n",
              "      <td>-0.000759</td>\n",
              "      <td>0.003215</td>\n",
              "      <td>-0.008791</td>\n",
              "      <td>0.008151</td>\n",
              "      <td>0.018792</td>\n",
              "      <td>0.010319</td>\n",
              "      <td>0.051901</td>\n",
              "      <td>0.068419</td>\n",
              "      <td>0.802420</td>\n",
              "      <td>1.000000</td>\n",
              "      <td>-0.002985</td>\n",
              "      <td>0.000380</td>\n",
              "      <td>-0.000414</td>\n",
              "      <td>0.004628</td>\n",
              "      <td>0.001272</td>\n",
              "      <td>-0.033170</td>\n",
              "      <td>0.039610</td>\n",
              "      <td>0.029784</td>\n",
              "    </tr>\n",
              "    <tr>\n",
              "      <th>collections_12_mths_ex_med</th>\n",
              "      <td>0.051437</td>\n",
              "      <td>-0.016648</td>\n",
              "      <td>-0.016489</td>\n",
              "      <td>-0.016060</td>\n",
              "      <td>0.013335</td>\n",
              "      <td>-0.003936</td>\n",
              "      <td>-0.000292</td>\n",
              "      <td>0.063006</td>\n",
              "      <td>0.006843</td>\n",
              "      <td>0.050846</td>\n",
              "      <td>0.009609</td>\n",
              "      <td>0.021038</td>\n",
              "      <td>-0.022850</td>\n",
              "      <td>-0.036123</td>\n",
              "      <td>0.008825</td>\n",
              "      <td>-0.024998</td>\n",
              "      <td>-0.003068</td>\n",
              "      <td>-0.004791</td>\n",
              "      <td>-0.002985</td>\n",
              "      <td>1.000000</td>\n",
              "      <td>0.039636</td>\n",
              "      <td>0.009806</td>\n",
              "      <td>-0.010978</td>\n",
              "      <td>-0.017241</td>\n",
              "      <td>-0.026038</td>\n",
              "      <td>-0.006457</td>\n",
              "      <td>-0.007253</td>\n",
              "    </tr>\n",
              "    <tr>\n",
              "      <th>acc_now_delinq</th>\n",
              "      <td>0.016961</td>\n",
              "      <td>0.003947</td>\n",
              "      <td>0.004051</td>\n",
              "      <td>0.004245</td>\n",
              "      <td>0.026478</td>\n",
              "      <td>0.014775</td>\n",
              "      <td>0.003205</td>\n",
              "      <td>0.130326</td>\n",
              "      <td>-0.005329</td>\n",
              "      <td>0.065564</td>\n",
              "      <td>0.017752</td>\n",
              "      <td>0.000349</td>\n",
              "      <td>-0.000855</td>\n",
              "      <td>-0.027677</td>\n",
              "      <td>0.026461</td>\n",
              "      <td>0.002260</td>\n",
              "      <td>0.003119</td>\n",
              "      <td>0.000711</td>\n",
              "      <td>0.000380</td>\n",
              "      <td>0.039636</td>\n",
              "      <td>1.000000</td>\n",
              "      <td>0.000237</td>\n",
              "      <td>0.023382</td>\n",
              "      <td>0.008251</td>\n",
              "      <td>-0.011380</td>\n",
              "      <td>-0.003180</td>\n",
              "      <td>-0.003934</td>\n",
              "    </tr>\n",
              "    <tr>\n",
              "      <th>tot_coll_amt</th>\n",
              "      <td>0.003910</td>\n",
              "      <td>-0.004108</td>\n",
              "      <td>-0.004110</td>\n",
              "      <td>-0.004102</td>\n",
              "      <td>0.001090</td>\n",
              "      <td>0.001062</td>\n",
              "      <td>-0.002066</td>\n",
              "      <td>0.000204</td>\n",
              "      <td>0.002921</td>\n",
              "      <td>0.013189</td>\n",
              "      <td>0.000120</td>\n",
              "      <td>0.006832</td>\n",
              "      <td>-0.006036</td>\n",
              "      <td>-0.008997</td>\n",
              "      <td>0.006268</td>\n",
              "      <td>-0.003320</td>\n",
              "      <td>-0.000435</td>\n",
              "      <td>-0.000807</td>\n",
              "      <td>-0.000414</td>\n",
              "      <td>0.009806</td>\n",
              "      <td>0.000237</td>\n",
              "      <td>1.000000</td>\n",
              "      <td>-0.000355</td>\n",
              "      <td>-0.005049</td>\n",
              "      <td>-0.001614</td>\n",
              "      <td>-0.000042</td>\n",
              "      <td>-0.000026</td>\n",
              "    </tr>\n",
              "    <tr>\n",
              "      <th>tot_cur_bal</th>\n",
              "      <td>0.007286</td>\n",
              "      <td>0.315930</td>\n",
              "      <td>0.316137</td>\n",
              "      <td>0.315577</td>\n",
              "      <td>-0.088222</td>\n",
              "      <td>0.405282</td>\n",
              "      <td>-0.007218</td>\n",
              "      <td>0.063706</td>\n",
              "      <td>0.031633</td>\n",
              "      <td>0.053983</td>\n",
              "      <td>0.235886</td>\n",
              "      <td>-0.075163</td>\n",
              "      <td>0.429024</td>\n",
              "      <td>0.076368</td>\n",
              "      <td>0.298828</td>\n",
              "      <td>0.121613</td>\n",
              "      <td>0.009866</td>\n",
              "      <td>0.003686</td>\n",
              "      <td>0.004628</td>\n",
              "      <td>-0.010978</td>\n",
              "      <td>0.023382</td>\n",
              "      <td>-0.000355</td>\n",
              "      <td>1.000000</td>\n",
              "      <td>0.384609</td>\n",
              "      <td>0.009940</td>\n",
              "      <td>0.001633</td>\n",
              "      <td>0.001037</td>\n",
              "    </tr>\n",
              "    <tr>\n",
              "      <th>total_rev_hi_lim</th>\n",
              "      <td>0.044331</td>\n",
              "      <td>0.300226</td>\n",
              "      <td>0.300423</td>\n",
              "      <td>0.299903</td>\n",
              "      <td>-0.160330</td>\n",
              "      <td>0.260473</td>\n",
              "      <td>0.032651</td>\n",
              "      <td>-0.040400</td>\n",
              "      <td>0.005440</td>\n",
              "      <td>-0.085092</td>\n",
              "      <td>0.314781</td>\n",
              "      <td>-0.099284</td>\n",
              "      <td>0.797016</td>\n",
              "      <td>-0.111026</td>\n",
              "      <td>0.245791</td>\n",
              "      <td>0.066227</td>\n",
              "      <td>-0.004575</td>\n",
              "      <td>0.000090</td>\n",
              "      <td>0.001272</td>\n",
              "      <td>-0.017241</td>\n",
              "      <td>0.008251</td>\n",
              "      <td>-0.005049</td>\n",
              "      <td>0.384609</td>\n",
              "      <td>1.000000</td>\n",
              "      <td>-0.013608</td>\n",
              "      <td>0.001361</td>\n",
              "      <td>0.000862</td>\n",
              "    </tr>\n",
              "    <tr>\n",
              "      <th>loan_status</th>\n",
              "      <td>-0.379489</td>\n",
              "      <td>-0.074130</td>\n",
              "      <td>-0.075566</td>\n",
              "      <td>-0.078906</td>\n",
              "      <td>0.002005</td>\n",
              "      <td>-0.006710</td>\n",
              "      <td>-0.050540</td>\n",
              "      <td>-0.035321</td>\n",
              "      <td>0.067553</td>\n",
              "      <td>-0.038011</td>\n",
              "      <td>-0.050328</td>\n",
              "      <td>-0.037976</td>\n",
              "      <td>-0.031019</td>\n",
              "      <td>-0.036574</td>\n",
              "      <td>-0.002039</td>\n",
              "      <td>0.029671</td>\n",
              "      <td>-0.003375</td>\n",
              "      <td>-0.048084</td>\n",
              "      <td>-0.033170</td>\n",
              "      <td>-0.026038</td>\n",
              "      <td>-0.011380</td>\n",
              "      <td>-0.001614</td>\n",
              "      <td>0.009940</td>\n",
              "      <td>-0.013608</td>\n",
              "      <td>1.000000</td>\n",
              "      <td>0.054921</td>\n",
              "      <td>0.060619</td>\n",
              "    </tr>\n",
              "    <tr>\n",
              "      <th>diff_funds</th>\n",
              "      <td>-0.089949</td>\n",
              "      <td>0.011179</td>\n",
              "      <td>0.008416</td>\n",
              "      <td>-0.054415</td>\n",
              "      <td>-0.004057</td>\n",
              "      <td>0.009009</td>\n",
              "      <td>-0.018162</td>\n",
              "      <td>-0.007906</td>\n",
              "      <td>0.067148</td>\n",
              "      <td>0.009255</td>\n",
              "      <td>-0.014362</td>\n",
              "      <td>-0.014804</td>\n",
              "      <td>0.019373</td>\n",
              "      <td>-0.013835</td>\n",
              "      <td>-0.008538</td>\n",
              "      <td>0.027258</td>\n",
              "      <td>0.048859</td>\n",
              "      <td>0.029145</td>\n",
              "      <td>0.039610</td>\n",
              "      <td>-0.006457</td>\n",
              "      <td>-0.003180</td>\n",
              "      <td>-0.000042</td>\n",
              "      <td>0.001633</td>\n",
              "      <td>0.001361</td>\n",
              "      <td>0.054921</td>\n",
              "      <td>1.000000</td>\n",
              "      <td>0.666122</td>\n",
              "    </tr>\n",
              "    <tr>\n",
              "      <th>diff_loan_funds</th>\n",
              "      <td>-0.098868</td>\n",
              "      <td>0.034028</td>\n",
              "      <td>0.003624</td>\n",
              "      <td>-0.038226</td>\n",
              "      <td>-0.003294</td>\n",
              "      <td>0.014283</td>\n",
              "      <td>-0.018628</td>\n",
              "      <td>-0.010872</td>\n",
              "      <td>0.051238</td>\n",
              "      <td>-0.004764</td>\n",
              "      <td>-0.015618</td>\n",
              "      <td>-0.016744</td>\n",
              "      <td>0.018957</td>\n",
              "      <td>-0.016577</td>\n",
              "      <td>-0.001116</td>\n",
              "      <td>0.044000</td>\n",
              "      <td>0.036529</td>\n",
              "      <td>0.027791</td>\n",
              "      <td>0.029784</td>\n",
              "      <td>-0.007253</td>\n",
              "      <td>-0.003934</td>\n",
              "      <td>-0.000026</td>\n",
              "      <td>0.001037</td>\n",
              "      <td>0.000862</td>\n",
              "      <td>0.060619</td>\n",
              "      <td>0.666122</td>\n",
              "      <td>1.000000</td>\n",
              "    </tr>\n",
              "  </tbody>\n",
              "</table>\n",
              "</div>"
            ],
            "text/plain": [
              "                                member_id  ...  diff_loan_funds\n",
              "member_id                        1.000000  ...        -0.098868\n",
              "loan_amnt                        0.064461  ...         0.034028\n",
              "funded_amnt                      0.066754  ...         0.003624\n",
              "funded_amnt_inv                  0.072308  ...        -0.038226\n",
              "int_rate                        -0.142205  ...        -0.003294\n",
              "annual_inc                       0.034146  ...         0.014283\n",
              "dti                              0.067824  ...        -0.018628\n",
              "delinq_2yrs                      0.049902  ...        -0.010872\n",
              "inq_last_6mths                  -0.127252  ...         0.051238\n",
              "mths_since_last_delinq_missing   0.069499  ...        -0.004764\n",
              "open_acc                         0.088835  ...        -0.015618\n",
              "pub_rec                          0.080785  ...        -0.016744\n",
              "revol_bal                        0.036416  ...         0.018957\n",
              "revol_util                      -0.054854  ...        -0.016577\n",
              "total_acc                        0.031691  ...        -0.001116\n",
              "total_rec_int                   -0.461098  ...         0.044000\n",
              "total_rec_late_fee              -0.076388  ...         0.036529\n",
              "recoveries                      -0.114473  ...         0.027791\n",
              "collection_recovery_fee         -0.072818  ...         0.029784\n",
              "collections_12_mths_ex_med       0.051437  ...        -0.007253\n",
              "acc_now_delinq                   0.016961  ...        -0.003934\n",
              "tot_coll_amt                     0.003910  ...        -0.000026\n",
              "tot_cur_bal                      0.007286  ...         0.001037\n",
              "total_rev_hi_lim                 0.044331  ...         0.000862\n",
              "loan_status                     -0.379489  ...         0.060619\n",
              "diff_funds                      -0.089949  ...         0.666122\n",
              "diff_loan_funds                 -0.098868  ...         1.000000\n",
              "\n",
              "[27 rows x 27 columns]"
            ]
          },
          "metadata": {
            "tags": []
          },
          "execution_count": 35
        }
      ]
    },
    {
      "cell_type": "code",
      "metadata": {
        "id": "oNy6r4zH03h5",
        "colab_type": "code",
        "colab": {}
      },
      "source": [
        "df.drop(columns=['funded_amnt','funded_amnt_inv','total_rev_hi_lim'],inplace=True)"
      ],
      "execution_count": 36,
      "outputs": []
    },
    {
      "cell_type": "code",
      "metadata": {
        "id": "T-M15mDg2vqa",
        "colab_type": "code",
        "colab": {
          "base_uri": "https://localhost:8080/",
          "height": 34
        },
        "outputId": "95906b0e-8043-488a-a6df-93594baa664b"
      },
      "source": [
        "df.shape"
      ],
      "execution_count": 37,
      "outputs": [
        {
          "output_type": "execute_result",
          "data": {
            "text/plain": [
              "(887379, 40)"
            ]
          },
          "metadata": {
            "tags": []
          },
          "execution_count": 37
        }
      ]
    },
    {
      "cell_type": "code",
      "metadata": {
        "id": "bWa4T2jsR6dP",
        "colab_type": "code",
        "colab": {}
      },
      "source": [
        "from sklearn.preprocessing import LabelEncoder\n",
        "le = LabelEncoder()"
      ],
      "execution_count": 38,
      "outputs": []
    },
    {
      "cell_type": "code",
      "metadata": {
        "id": "IkCSsUgmTG0F",
        "colab_type": "code",
        "colab": {}
      },
      "source": [
        "df.drop(columns=['last_week_pay', 'title', 'zip_code', 'addr_state','sub_grade'],inplace=True)"
      ],
      "execution_count": 39,
      "outputs": []
    },
    {
      "cell_type": "code",
      "metadata": {
        "id": "WCzMDCQHTMLF",
        "colab_type": "code",
        "colab": {}
      },
      "source": [
        "df.is_enrolled=df.is_enrolled.astype(str).astype(int)"
      ],
      "execution_count": 40,
      "outputs": []
    },
    {
      "cell_type": "code",
      "metadata": {
        "id": "5pULF0-8UiJw",
        "colab_type": "code",
        "colab": {
          "base_uri": "https://localhost:8080/",
          "height": 85
        },
        "outputId": "e4791e34-f642-48d0-b0c4-47f423da969b"
      },
      "source": [
        "df.select_dtypes(include='object').columns"
      ],
      "execution_count": 41,
      "outputs": [
        {
          "output_type": "execute_result",
          "data": {
            "text/plain": [
              "Index(['term', 'grade', 'emp_length', 'home_ownership', 'verification_status',\n",
              "       'pymnt_plan', 'purpose', 'initial_list_status', 'application_type',\n",
              "       'source'],\n",
              "      dtype='object')"
            ]
          },
          "metadata": {
            "tags": []
          },
          "execution_count": 41
        }
      ]
    },
    {
      "cell_type": "code",
      "metadata": {
        "id": "6iLdRwOkVOc3",
        "colab_type": "code",
        "colab": {}
      },
      "source": [
        "encod_col=['term', 'grade', 'emp_length', 'home_ownership', 'verification_status',\n",
        "       'pymnt_plan', 'purpose', 'initial_list_status', 'application_type']"
      ],
      "execution_count": 42,
      "outputs": []
    },
    {
      "cell_type": "code",
      "metadata": {
        "id": "gNRvettcVyWX",
        "colab_type": "code",
        "colab": {}
      },
      "source": [
        "for col in encod_col:\n",
        "    df[col]=le.fit_transform(df[col])"
      ],
      "execution_count": 43,
      "outputs": []
    },
    {
      "cell_type": "code",
      "metadata": {
        "id": "Q-ZvPKBgWD8j",
        "colab_type": "code",
        "colab": {}
      },
      "source": [
        "df=pd.get_dummies(df,columns=['term', 'grade', 'emp_length', 'home_ownership', 'verification_status',\n",
        "       'pymnt_plan', 'purpose', 'initial_list_status', 'application_type'],drop_first=True)"
      ],
      "execution_count": 44,
      "outputs": []
    },
    {
      "cell_type": "code",
      "metadata": {
        "id": "VWcL4dB7WGCt",
        "colab_type": "code",
        "colab": {
          "base_uri": "https://localhost:8080/",
          "height": 34
        },
        "outputId": "e8155eab-8cfe-4004-c9f3-72f3f8a6c573"
      },
      "source": [
        "df.shape"
      ],
      "execution_count": 45,
      "outputs": [
        {
          "output_type": "execute_result",
          "data": {
            "text/plain": [
              "(887379, 66)"
            ]
          },
          "metadata": {
            "tags": []
          },
          "execution_count": 45
        }
      ]
    },
    {
      "cell_type": "code",
      "metadata": {
        "id": "Op4qcRm-WurH",
        "colab_type": "code",
        "colab": {}
      },
      "source": [
        "train_df,test_df=df[df.source=='train'],df[df.source=='test']"
      ],
      "execution_count": 46,
      "outputs": []
    },
    {
      "cell_type": "code",
      "metadata": {
        "id": "6OmC_Ny-W9Mj",
        "colab_type": "code",
        "colab": {
          "base_uri": "https://localhost:8080/",
          "height": 122
        },
        "outputId": "6131f55b-c888-474f-c0e3-60456291b880"
      },
      "source": [
        "test_df.drop(columns=['source','loan_status'],inplace=True)"
      ],
      "execution_count": 47,
      "outputs": [
        {
          "output_type": "stream",
          "text": [
            "/usr/local/lib/python3.6/dist-packages/pandas/core/frame.py:3997: SettingWithCopyWarning: \n",
            "A value is trying to be set on a copy of a slice from a DataFrame\n",
            "\n",
            "See the caveats in the documentation: https://pandas.pydata.org/pandas-docs/stable/user_guide/indexing.html#returning-a-view-versus-a-copy\n",
            "  errors=errors,\n"
          ],
          "name": "stderr"
        }
      ]
    },
    {
      "cell_type": "code",
      "metadata": {
        "id": "cMKN0ebJXH8Q",
        "colab_type": "code",
        "colab": {
          "base_uri": "https://localhost:8080/",
          "height": 122
        },
        "outputId": "4697fb4d-ab7e-4343-db71-a445177ccffe"
      },
      "source": [
        "train_df.drop(columns=['source','member_id'],inplace=True)"
      ],
      "execution_count": 48,
      "outputs": [
        {
          "output_type": "stream",
          "text": [
            "/usr/local/lib/python3.6/dist-packages/pandas/core/frame.py:3997: SettingWithCopyWarning: \n",
            "A value is trying to be set on a copy of a slice from a DataFrame\n",
            "\n",
            "See the caveats in the documentation: https://pandas.pydata.org/pandas-docs/stable/user_guide/indexing.html#returning-a-view-versus-a-copy\n",
            "  errors=errors,\n"
          ],
          "name": "stderr"
        }
      ]
    },
    {
      "cell_type": "code",
      "metadata": {
        "id": "-PeIUFQnYyTb",
        "colab_type": "code",
        "colab": {}
      },
      "source": [
        "from sklearn.model_selection import train_test_split"
      ],
      "execution_count": 49,
      "outputs": []
    },
    {
      "cell_type": "code",
      "metadata": {
        "id": "5uumcKJzZQP9",
        "colab_type": "code",
        "colab": {}
      },
      "source": [
        "x,y=train_df.loc[:,train_df.columns!='loan_status'],train_df.loc[:,'loan_status']"
      ],
      "execution_count": 50,
      "outputs": []
    },
    {
      "cell_type": "code",
      "metadata": {
        "id": "mUfCLTUFZaSu",
        "colab_type": "code",
        "colab": {
          "base_uri": "https://localhost:8080/",
          "height": 34
        },
        "outputId": "6f9778ef-2967-4293-fd10-9994fddddb48"
      },
      "source": [
        "x.shape,y.shape"
      ],
      "execution_count": 51,
      "outputs": [
        {
          "output_type": "execute_result",
          "data": {
            "text/plain": [
              "((532428, 63), (532428,))"
            ]
          },
          "metadata": {
            "tags": []
          },
          "execution_count": 51
        }
      ]
    },
    {
      "cell_type": "code",
      "metadata": {
        "id": "Pux__dU3ZEtF",
        "colab_type": "code",
        "colab": {}
      },
      "source": [
        "x_train,x_val,y_train,y_val=train_test_split(x,y, test_size = 0.05, random_state = 42)"
      ],
      "execution_count": 52,
      "outputs": []
    },
    {
      "cell_type": "code",
      "metadata": {
        "id": "k-UpfTayZnQM",
        "colab_type": "code",
        "colab": {
          "base_uri": "https://localhost:8080/",
          "height": 34
        },
        "outputId": "05597a28-81a5-4069-f542-4f06f440e1b2"
      },
      "source": [
        "print(x_train.shape,y_train.shape,x_val.shape,y_val.shape)"
      ],
      "execution_count": 53,
      "outputs": [
        {
          "output_type": "stream",
          "text": [
            "(505806, 63) (505806,) (26622, 63) (26622,)\n"
          ],
          "name": "stdout"
        }
      ]
    },
    {
      "cell_type": "code",
      "metadata": {
        "id": "CEWVNGnm5-MG",
        "colab_type": "code",
        "colab": {}
      },
      "source": [
        "for col in x.columns:\n",
        "    if(x[col].dtype=='object'):\n",
        "        print(col)"
      ],
      "execution_count": 54,
      "outputs": []
    },
    {
      "cell_type": "code",
      "metadata": {
        "id": "a-AITdNpu_gx",
        "colab_type": "code",
        "colab": {}
      },
      "source": [
        "from xgboost.sklearn import XGBClassifier\n",
        "import xgboost as xgb   \n",
        "from sklearn.model_selection import RandomizedSearchCV \n",
        "from sklearn.metrics import roc_auc_score"
      ],
      "execution_count": 55,
      "outputs": []
    },
    {
      "cell_type": "code",
      "metadata": {
        "id": "HGaZgf9sdY5l",
        "colab_type": "code",
        "colab": {}
      },
      "source": [
        "def model_train(clf,x_train,y_train,x_val,y_val):\n",
        "    xgbtrain=xgb.DMatrix(x_train.values, label=y_train.values)\n",
        "    xgbparams=clf.get_xgb_params()\n",
        "    cv=xgb.cv(xgbparams,xgbtrain,num_boost_round=600,nfold=5,metrics='auc',early_stopping_rounds=30,seed=123)\n",
        "    clf.set_params(n_estimators=cv.shape[0])\n",
        "    clf.fit(x_train,y_train)\n",
        "    pred=clf.predict(x_val)\n",
        "    print(cv.head())\n",
        "    print(roc_auc_score(y_val,pred))\n",
        "    print(cv.shape[0])"
      ],
      "execution_count": 76,
      "outputs": []
    },
    {
      "cell_type": "code",
      "metadata": {
        "id": "3HGov9FA34Cb",
        "colab_type": "code",
        "colab": {}
      },
      "source": [
        "xgb1 = XGBClassifier(learning_rate =0.1,n_estimators=1000,max_depth=5,min_child_weight=1,gamma=0,subsample=0.8,\n",
        "                      colsample_bytree=0.8,objective= 'binary:logistic',nthread=4,scale_pos_weight=1,seed=27,\n",
        "                      tree_method='gpu_hist')"
      ],
      "execution_count": 77,
      "outputs": []
    },
    {
      "cell_type": "code",
      "metadata": {
        "id": "3b6nYPiN4Qdc",
        "colab_type": "code",
        "colab": {
          "base_uri": "https://localhost:8080/",
          "height": 153
        },
        "outputId": "2d8c5830-ed1f-447d-d24d-03b78e6546b2"
      },
      "source": [
        "model_train(xgb1,x_train,y_train,x_val,y_val)"
      ],
      "execution_count": 78,
      "outputs": [
        {
          "output_type": "stream",
          "text": [
            "   train-auc-mean  train-auc-std  test-auc-mean  test-auc-std\n",
            "0        0.746451       0.000560       0.745709      0.001613\n",
            "1        0.753496       0.000444       0.752699      0.001685\n",
            "2        0.757437       0.000422       0.756506      0.001624\n",
            "3        0.765770       0.000647       0.764787      0.001721\n",
            "4        0.766603       0.000488       0.765534      0.001405\n",
            "0.7586396510670143\n",
            "600\n"
          ],
          "name": "stdout"
        }
      ]
    },
    {
      "cell_type": "code",
      "metadata": {
        "id": "U36TPAmlgn2_",
        "colab_type": "code",
        "colab": {}
      },
      "source": [
        "xgb2=XGBClassifier(learning_rate =0.5,n_estimators=800,max_depth=5,min_child_weight=1,gamma=0,subsample=0.8,\n",
        "                      colsample_bytree=0.8,objective= 'binary:logistic',nthread=4,scale_pos_weight=1,seed=27,\n",
        "                      tree_method='gpu_hist')"
      ],
      "execution_count": 91,
      "outputs": []
    },
    {
      "cell_type": "code",
      "metadata": {
        "id": "CIDYzHG0hO7A",
        "colab_type": "code",
        "colab": {
          "base_uri": "https://localhost:8080/",
          "height": 153
        },
        "outputId": "6699ace4-2ba3-4a94-fa62-2ecc7a06277c"
      },
      "source": [
        "model_train(xgb2,x_train,y_train,x_val,y_val)"
      ],
      "execution_count": 92,
      "outputs": [
        {
          "output_type": "stream",
          "text": [
            "   train-auc-mean  train-auc-std  test-auc-mean  test-auc-std\n",
            "0        0.746451       0.000560       0.745709      0.001613\n",
            "1        0.762216       0.002363       0.761445      0.001693\n",
            "2        0.771063       0.001842       0.769917      0.001283\n",
            "3        0.777009       0.001643       0.775639      0.001445\n",
            "4        0.780923       0.001367       0.779358      0.001334\n",
            "0.7796991423240631\n",
            "290\n"
          ],
          "name": "stdout"
        }
      ]
    },
    {
      "cell_type": "code",
      "metadata": {
        "id": "NBxhSq4glgec",
        "colab_type": "code",
        "colab": {}
      },
      "source": [
        "new_test=test_df.copy()"
      ],
      "execution_count": 103,
      "outputs": []
    },
    {
      "cell_type": "code",
      "metadata": {
        "id": "KBpXez5mmU3u",
        "colab_type": "code",
        "colab": {}
      },
      "source": [
        "new_test.drop('member_id',axis=1,inplace=True)"
      ],
      "execution_count": 104,
      "outputs": []
    },
    {
      "cell_type": "code",
      "metadata": {
        "id": "QCQhL6W3oGSn",
        "colab_type": "code",
        "colab": {
          "base_uri": "https://localhost:8080/",
          "height": 136
        },
        "outputId": "854f80d9-ded4-44d7-f01f-2af62949e0b9"
      },
      "source": [
        "xgb2.fit(x_train,y_train)"
      ],
      "execution_count": 106,
      "outputs": [
        {
          "output_type": "execute_result",
          "data": {
            "text/plain": [
              "XGBClassifier(base_score=0.5, booster='gbtree', colsample_bylevel=1,\n",
              "              colsample_bynode=1, colsample_bytree=0.8, gamma=0,\n",
              "              learning_rate=0.6, max_delta_step=0, max_depth=5,\n",
              "              min_child_weight=1, missing=None, n_estimators=600, n_jobs=1,\n",
              "              nthread=4, objective='binary:logistic', random_state=0,\n",
              "              reg_alpha=0, reg_lambda=1, scale_pos_weight=1, seed=27,\n",
              "              silent=None, subsample=0.8, tree_method='gpu_hist', verbosity=1)"
            ]
          },
          "metadata": {
            "tags": []
          },
          "execution_count": 106
        }
      ]
    },
    {
      "cell_type": "code",
      "metadata": {
        "id": "1v7aFaf-nVpT",
        "colab_type": "code",
        "colab": {}
      },
      "source": [
        "pred_prob=xgb2.predict_proba(new_test)[:,1]"
      ],
      "execution_count": 107,
      "outputs": []
    },
    {
      "cell_type": "code",
      "metadata": {
        "id": "jVQzB1TqoCMn",
        "colab_type": "code",
        "colab": {}
      },
      "source": [
        "pd.DataFrame({'member_id':test_df.member_id,'loan_status':pred_prob}).set_index('member_id').to_csv('submission.csv',header=False)"
      ],
      "execution_count": 112,
      "outputs": []
    }
  ]
}